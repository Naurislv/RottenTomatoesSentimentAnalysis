{
 "cells": [
  {
   "cell_type": "markdown",
   "metadata": {},
   "source": [
    "# Explore Kaggle Train and Test dataset\n",
    "\n",
    "https://www.kaggle.com/c/sentiment-analysis-on-movie-reviews/data"
   ]
  },
  {
   "cell_type": "code",
   "execution_count": 1,
   "metadata": {},
   "outputs": [
    {
     "name": "stderr",
     "output_type": "stream",
     "text": [
      "02/10/2017 22:06:46 Train, number of phrases: 156060\n",
      "02/10/2017 22:06:46 Test, number of phrases: 66292\n"
     ]
    }
   ],
   "source": [
    "# Jypyter notebook specific\n",
    "%matplotlib inline\n",
    "from IPython.display import display, HTML\n",
    "\n",
    "# Standard imports\n",
    "import logging\n",
    "\n",
    "logging.basicConfig(format='%(asctime)s %(message)s',\n",
    "                    datefmt='%d/%m/%Y %H:%M:%S',\n",
    "                    level=10)\n",
    "\n",
    "# Dependecy imports\n",
    "import numpy as np # linear algebra\n",
    "import seaborn as sn # To get nice plots\n",
    "\n",
    "# Local imports\n",
    "from data.load_dataset import TRAIN_SET, TEST_SET"
   ]
  },
  {
   "cell_type": "code",
   "execution_count": 2,
   "metadata": {},
   "outputs": [
    {
     "data": {
      "text/html": [
       "<div>\n",
       "<style>\n",
       "    .dataframe thead tr:only-child th {\n",
       "        text-align: right;\n",
       "    }\n",
       "\n",
       "    .dataframe thead th {\n",
       "        text-align: left;\n",
       "    }\n",
       "\n",
       "    .dataframe tbody tr th {\n",
       "        vertical-align: top;\n",
       "    }\n",
       "</style>\n",
       "<table border=\"1\" class=\"dataframe\">\n",
       "  <thead>\n",
       "    <tr style=\"text-align: right;\">\n",
       "      <th></th>\n",
       "      <th>Phrase</th>\n",
       "      <th>Sentiment</th>\n",
       "    </tr>\n",
       "  </thead>\n",
       "  <tbody>\n",
       "    <tr>\n",
       "      <th>count</th>\n",
       "      <td>156060</td>\n",
       "      <td>156060</td>\n",
       "    </tr>\n",
       "    <tr>\n",
       "      <th>unique</th>\n",
       "      <td>155797</td>\n",
       "      <td>5</td>\n",
       "    </tr>\n",
       "    <tr>\n",
       "      <th>top</th>\n",
       "      <td></td>\n",
       "      <td>2</td>\n",
       "    </tr>\n",
       "    <tr>\n",
       "      <th>freq</th>\n",
       "      <td>18</td>\n",
       "      <td>79582</td>\n",
       "    </tr>\n",
       "  </tbody>\n",
       "</table>\n",
       "</div>"
      ],
      "text/plain": [
       "        Phrase Sentiment\n",
       "count   156060    156060\n",
       "unique  155797         5\n",
       "top                    2\n",
       "freq        18     79582"
      ]
     },
     "metadata": {},
     "output_type": "display_data"
    },
    {
     "data": {
      "text/html": [
       "<div>\n",
       "<style>\n",
       "    .dataframe thead tr:only-child th {\n",
       "        text-align: right;\n",
       "    }\n",
       "\n",
       "    .dataframe thead th {\n",
       "        text-align: left;\n",
       "    }\n",
       "\n",
       "    .dataframe tbody tr th {\n",
       "        vertical-align: top;\n",
       "    }\n",
       "</style>\n",
       "<table border=\"1\" class=\"dataframe\">\n",
       "  <thead>\n",
       "    <tr style=\"text-align: right;\">\n",
       "      <th></th>\n",
       "      <th>Phrase</th>\n",
       "    </tr>\n",
       "  </thead>\n",
       "  <tbody>\n",
       "    <tr>\n",
       "      <th>count</th>\n",
       "      <td>66292</td>\n",
       "    </tr>\n",
       "    <tr>\n",
       "      <th>unique</th>\n",
       "      <td>66204</td>\n",
       "    </tr>\n",
       "    <tr>\n",
       "      <th>top</th>\n",
       "      <td></td>\n",
       "    </tr>\n",
       "    <tr>\n",
       "      <th>freq</th>\n",
       "      <td>15</td>\n",
       "    </tr>\n",
       "  </tbody>\n",
       "</table>\n",
       "</div>"
      ],
      "text/plain": [
       "       Phrase\n",
       "count   66292\n",
       "unique  66204\n",
       "top          \n",
       "freq       15"
      ]
     },
     "metadata": {},
     "output_type": "display_data"
    }
   ],
   "source": [
    "display(TRAIN_SET.describe())\n",
    "display(TEST_SET.describe())"
   ]
  },
  {
   "cell_type": "markdown",
   "metadata": {},
   "source": [
    "## The sentiment labels are:\n",
    "```\n",
    "0 - negative\n",
    "1 - somewhat negative\n",
    "2 - neutral\n",
    "3 - somewhat positive\n",
    "4 - positive\n",
    "```"
   ]
  },
  {
   "cell_type": "code",
   "execution_count": 4,
   "metadata": {},
   "outputs": [
    {
     "data": {
      "text/plain": [
       "<matplotlib.axes._subplots.AxesSubplot at 0x7fd6d3e881d0>"
      ]
     },
     "execution_count": 4,
     "metadata": {},
     "output_type": "execute_result"
    },
    {
     "data": {
      "image/png": "[encoded data removed]",
      "text/plain": [
       "<matplotlib.figure.Figure at 0x7fd72534eef0>"
      ]
     },
     "metadata": {},
     "output_type": "display_data"
    }
   ],
   "source": [
    "TRAIN_SET['Sentiment'].value_counts().plot(kind='bar', title='Number of Sentiment classes')"
   ]
  },
  {
   "cell_type": "markdown",
   "metadata": {},
   "source": [
    "## Example of data where Sentiment is not neutral"
   ]
  },
  {
   "cell_type": "code",
   "execution_count": 11,
   "metadata": {},
   "outputs": [
    {
     "data": {
      "text/html": [
       "<div>\n",
       "<style>\n",
       "    .dataframe thead tr:only-child th {\n",
       "        text-align: right;\n",
       "    }\n",
       "\n",
       "    .dataframe thead th {\n",
       "        text-align: left;\n",
       "    }\n",
       "\n",
       "    .dataframe tbody tr th {\n",
       "        vertical-align: top;\n",
       "    }\n",
       "</style>\n",
       "<table border=\"1\" class=\"dataframe\">\n",
       "  <thead>\n",
       "    <tr style=\"text-align: right;\">\n",
       "      <th></th>\n",
       "      <th>Phrase</th>\n",
       "      <th>Sentiment</th>\n",
       "    </tr>\n",
       "  </thead>\n",
       "  <tbody>\n",
       "    <tr>\n",
       "      <th>0</th>\n",
       "      <td>a series of escapades demonstrating the adage ...</td>\n",
       "      <td>1</td>\n",
       "    </tr>\n",
       "    <tr>\n",
       "      <th>21</th>\n",
       "      <td>good for the goose</td>\n",
       "      <td>3</td>\n",
       "    </tr>\n",
       "    <tr>\n",
       "      <th>22</th>\n",
       "      <td>good</td>\n",
       "      <td>3</td>\n",
       "    </tr>\n",
       "    <tr>\n",
       "      <th>33</th>\n",
       "      <td>the gander  some of which occasionally amuses ...</td>\n",
       "      <td>1</td>\n",
       "    </tr>\n",
       "    <tr>\n",
       "      <th>46</th>\n",
       "      <td>amuses</td>\n",
       "      <td>3</td>\n",
       "    </tr>\n",
       "    <tr>\n",
       "      <th>47</th>\n",
       "      <td>but none of which amounts to much of a story</td>\n",
       "      <td>1</td>\n",
       "    </tr>\n",
       "    <tr>\n",
       "      <th>49</th>\n",
       "      <td>none of which amounts to much of a story</td>\n",
       "      <td>1</td>\n",
       "    </tr>\n",
       "    <tr>\n",
       "      <th>63</th>\n",
       "      <td>this quiet  introspective and entertaining ind...</td>\n",
       "      <td>4</td>\n",
       "    </tr>\n",
       "    <tr>\n",
       "      <th>64</th>\n",
       "      <td>this quiet  introspective and entertaining ind...</td>\n",
       "      <td>3</td>\n",
       "    </tr>\n",
       "    <tr>\n",
       "      <th>66</th>\n",
       "      <td>quiet  introspective and entertaining independent</td>\n",
       "      <td>4</td>\n",
       "    </tr>\n",
       "    <tr>\n",
       "      <th>67</th>\n",
       "      <td>quiet  introspective and entertaining</td>\n",
       "      <td>3</td>\n",
       "    </tr>\n",
       "    <tr>\n",
       "      <th>69</th>\n",
       "      <td>introspective and entertaining</td>\n",
       "      <td>3</td>\n",
       "    </tr>\n",
       "    <tr>\n",
       "      <th>70</th>\n",
       "      <td>introspective and entertaining</td>\n",
       "      <td>3</td>\n",
       "    </tr>\n",
       "    <tr>\n",
       "      <th>71</th>\n",
       "      <td>introspective and</td>\n",
       "      <td>3</td>\n",
       "    </tr>\n",
       "    <tr>\n",
       "      <th>74</th>\n",
       "      <td>entertaining</td>\n",
       "      <td>4</td>\n",
       "    </tr>\n",
       "    <tr>\n",
       "      <th>76</th>\n",
       "      <td>is worth seeking</td>\n",
       "      <td>3</td>\n",
       "    </tr>\n",
       "    <tr>\n",
       "      <th>77</th>\n",
       "      <td>is worth seeking</td>\n",
       "      <td>4</td>\n",
       "    </tr>\n",
       "    <tr>\n",
       "      <th>81</th>\n",
       "      <td>even fans of ismail merchant s work  i suspect...</td>\n",
       "      <td>1</td>\n",
       "    </tr>\n",
       "    <tr>\n",
       "      <th>85</th>\n",
       "      <td>fans</td>\n",
       "      <td>3</td>\n",
       "    </tr>\n",
       "    <tr>\n",
       "      <th>94</th>\n",
       "      <td>i suspect  would have a hard time sitting thr...</td>\n",
       "      <td>1</td>\n",
       "    </tr>\n",
       "  </tbody>\n",
       "</table>\n",
       "</div>"
      ],
      "text/plain": [
       "                                               Phrase Sentiment\n",
       "0   a series of escapades demonstrating the adage ...         1\n",
       "21                                 good for the goose         3\n",
       "22                                               good         3\n",
       "33  the gander  some of which occasionally amuses ...         1\n",
       "46                                             amuses         3\n",
       "47       but none of which amounts to much of a story         1\n",
       "49           none of which amounts to much of a story         1\n",
       "63  this quiet  introspective and entertaining ind...         4\n",
       "64  this quiet  introspective and entertaining ind...         3\n",
       "66  quiet  introspective and entertaining independent         4\n",
       "67              quiet  introspective and entertaining         3\n",
       "69                     introspective and entertaining         3\n",
       "70                     introspective and entertaining         3\n",
       "71                                  introspective and         3\n",
       "74                                       entertaining         4\n",
       "76                                  is worth seeking          3\n",
       "77                                   is worth seeking         4\n",
       "81  even fans of ismail merchant s work  i suspect...         1\n",
       "85                                               fans         3\n",
       "94   i suspect  would have a hard time sitting thr...         1"
      ]
     },
     "execution_count": 11,
     "metadata": {},
     "output_type": "execute_result"
    }
   ],
   "source": [
    "TRAIN_SET[TRAIN_SET['Sentiment'] != '2'].head(20)"
   ]
  },
  {
   "cell_type": "markdown",
   "metadata": {},
   "source": [
    "## Number of words per Phrase in both datasets"
   ]
  },
  {
   "cell_type": "code",
   "execution_count": 60,
   "metadata": {},
   "outputs": [
    {
     "data": {
      "text/plain": [
       "<matplotlib.axes._subplots.AxesSubplot at 0x7fc5ddf67940>"
      ]
     },
     "execution_count": 60,
     "metadata": {},
     "output_type": "execute_result"
    },
    {
     "data": {
      "image/png": "[encoded data removed]",
      "text/plain": [
       "<matplotlib.figure.Figure at 0x7fc5e14ba668>"
      ]
     },
     "metadata": {},
     "output_type": "display_data"
    }
   ],
   "source": [
    "TRAIN_SET['Phrase'].str.split().str.len().value_counts().plot(kind='bar', figsize=(16, 6))"
   ]
  },
  {
   "cell_type": "code",
   "execution_count": 61,
   "metadata": {},
   "outputs": [
    {
     "data": {
      "text/plain": [
       "<matplotlib.axes._subplots.AxesSubplot at 0x7fc5d2023470>"
      ]
     },
     "execution_count": 61,
     "metadata": {},
     "output_type": "execute_result"
    },
    {
     "data": {
      "image/png": "[encoded data removed]",
      "text/plain": [
       "<matplotlib.figure.Figure at 0x7fc5e287e160>"
      ]
     },
     "metadata": {},
     "output_type": "display_data"
    }
   ],
   "source": [
    "TEST_SET['Phrase'].str.split().str.len().value_counts().plot(kind='bar', figsize=(16, 6))"
   ]
  },
  {
   "cell_type": "markdown",
   "metadata": {},
   "source": [
    "## 20 most popular words in boths sets"
   ]
  },
  {
   "cell_type": "code",
   "execution_count": 84,
   "metadata": {},
   "outputs": [
    {
     "name": "stdout",
     "output_type": "stream",
     "text": [
      "Unique words: 16418\n"
     ]
    },
    {
     "data": {
      "text/plain": [
       "         72314\n",
       "the      51220\n",
       "a        36130\n",
       "of       32308\n",
       "and      31763\n",
       "to       22448\n",
       "s        17002\n",
       "in       13745\n",
       "is       13447\n",
       "that     12327\n",
       "it       11677\n",
       "as        8633\n",
       "with      7750\n",
       "for       7417\n",
       "its       7051\n",
       "film      6689\n",
       "an        6479\n",
       "movie     5905\n",
       "this      5677\n",
       "but       5126\n",
       "dtype: int64"
      ]
     },
     "execution_count": 84,
     "metadata": {},
     "output_type": "execute_result"
    }
   ],
   "source": [
    "unique_words_train = TRAIN_SET['Phrase'].str.split(' ', expand=True).stack()\n",
    "\n",
    "print('Unique words:', unique_words_train.unique().shape[0])\n",
    "unique_words_train.value_counts().head(30)"
   ]
  },
  {
   "cell_type": "code",
   "execution_count": 85,
   "metadata": {},
   "outputs": [
    {
     "name": "stdout",
     "output_type": "stream",
     "text": [
      "Unique words: 9958\n"
     ]
    },
    {
     "data": {
      "text/plain": [
       "         27525\n",
       "the      19942\n",
       "a        13935\n",
       "and      12471\n",
       "of       12351\n",
       "to        9051\n",
       "s         6585\n",
       "in        5537\n",
       "is        5322\n",
       "it        4857\n",
       "that      4531\n",
       "as        3353\n",
       "with      2972\n",
       "its       2942\n",
       "for       2847\n",
       "this      2529\n",
       "an        2448\n",
       "film      2436\n",
       "movie     2230\n",
       "but       2001\n",
       "dtype: int64"
      ]
     },
     "execution_count": 85,
     "metadata": {},
     "output_type": "execute_result"
    }
   ],
   "source": [
    "unique_words_test = TEST_SET['Phrase'].str.split(' ', expand=True).stack()\n",
    "\n",
    "print('Unique words:', unique_words_test.unique().shape[0])\n",
    "unique_words_test.value_counts().head(30)"
   ]
  },
  {
   "cell_type": "code",
   "execution_count": 88,
   "metadata": {},
   "outputs": [
    {
     "name": "stdout",
     "output_type": "stream",
     "text": [
      "(9958,)\n",
      "(16418,)\n"
     ]
    }
   ],
   "source": [
    "print(unique_words_test.unique().shape)\n",
    "print(unique_words_train.unique().shape)"
   ]
  },
  {
   "cell_type": "markdown",
   "metadata": {},
   "source": [
    "## Words which are in Test set but not in Train set"
   ]
  },
  {
   "cell_type": "code",
   "execution_count": 136,
   "metadata": {},
   "outputs": [
    {
     "name": "stdout",
     "output_type": "stream",
     "text": [
      "Words in Test but not in Train (2914,)\n"
     ]
    },
    {
     "data": {
      "text/plain": [
       "boxing             45\n",
       "professionalism    44\n",
       "applaud            39\n",
       "1978               39\n",
       "architectural      38\n",
       "cheerful           35\n",
       "swaggering         34\n",
       "andrew             33\n",
       "spit               32\n",
       "riff               32\n",
       "torpor             31\n",
       "legitimate         30\n",
       "moldy              30\n",
       "unearthed          30\n",
       "mold               30\n",
       "divide             30\n",
       "respectful         29\n",
       "implicit           29\n",
       "puccini            29\n",
       "increasing         28\n",
       "dtype: int64"
      ]
     },
     "execution_count": 136,
     "metadata": {},
     "output_type": "execute_result"
    }
   ],
   "source": [
    "not_in_train = unique_words_test.unique()[~np.in1d(unique_words_test.unique(), unique_words_train.unique())]\n",
    "\n",
    "print('Words in Test but not in Train', not_in_train.shape[0])\n",
    "unique_words_test[unique_words_test.isin(not_in_train)].value_counts().head(30)"
   ]
  },
  {
   "cell_type": "markdown",
   "metadata": {},
   "source": [
    "## Words which are in Ttra set but not in Test set"
   ]
  },
  {
   "cell_type": "code",
   "execution_count": 137,
   "metadata": {},
   "outputs": [
    {
     "name": "stdout",
     "output_type": "stream",
     "text": [
      "Words in Test but not in Train 9374\n"
     ]
    },
    {
     "data": {
      "text/plain": [
       "conclusion        144\n",
       "various           110\n",
       "smile             106\n",
       "animal            101\n",
       "knowledge          96\n",
       "theatre            95\n",
       "broken             95\n",
       "season             93\n",
       "signs              92\n",
       "indian             91\n",
       "graphic            90\n",
       "deadly             86\n",
       "tiny               84\n",
       "superb             83\n",
       "pack               83\n",
       "notice             80\n",
       "exquisite          79\n",
       "firstrate          78\n",
       "payoff             77\n",
       "limited            76\n",
       "darker             73\n",
       "cross              72\n",
       "belly              72\n",
       "schneider          71\n",
       "dawson             71\n",
       "lifeaffirming      70\n",
       "belt               70\n",
       "sake               69\n",
       "niche              69\n",
       "simultaneously     69\n",
       "dtype: int64"
      ]
     },
     "execution_count": 137,
     "metadata": {},
     "output_type": "execute_result"
    }
   ],
   "source": [
    "not_in_test = unique_words_train.unique()[~np.in1d(unique_words_train.unique(), unique_words_test.unique())]\n",
    "\n",
    "print('Words in Test but not in Train', not_in_test.shape[0])\n",
    "unique_words_train[unique_words_train.isin(not_in_test)].value_counts().head(30)"
   ]
  },
  {
   "cell_type": "markdown",
   "metadata": {},
   "source": [
    "## Thoughts"
   ]
  },
  {
   "cell_type": "markdown",
   "metadata": {},
   "source": [
    "As of word frequncy, unique words and most common words we can see that both dataset are pretty similarly divided except Train set have much more unique words than Test set which ok.\n",
    "\n",
    "It's worth noting that some words (2914) which can be found in Test Set cannot be found in Train set. e.g. Boxing, professionalism, applaud. This is obvius flaw in our training set however their occurances are not very fequent max 45 for boxing, also Tokenizer (Word embeddings) will help us to deal with this problem by understanding what words are nearby.\n",
    "\n",
    "Train set however have 9374 words which can't be found in Test set with tops of 144 occurances \"colclusion\""
   ]
  }
 ],
 "metadata": {
  "kernelspec": {
   "display_name": "Python 3",
   "language": "python",
   "name": "python3"
  },
  "language_info": {
   "codemirror_mode": {
    "name": "ipython",
    "version": 3
   },
   "file_extension": ".py",
   "mimetype": "text/x-python",
   "name": "python",
   "nbconvert_exporter": "python",
   "pygments_lexer": "ipython3",
   "version": "3.6.2"
  }
 },
 "nbformat": 4,
 "nbformat_minor": 2
}
